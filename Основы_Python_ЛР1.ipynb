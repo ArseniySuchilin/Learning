{
  "nbformat": 4,
  "nbformat_minor": 0,
  "metadata": {
    "colab": {
      "provenance": [],
      "authorship_tag": "ABX9TyMaM9EnJmHKyUTgv0LnoJQI",
      "include_colab_link": true
    },
    "kernelspec": {
      "name": "python3",
      "display_name": "Python 3"
    },
    "language_info": {
      "name": "python"
    }
  },
  "cells": [
    {
      "cell_type": "markdown",
      "metadata": {
        "id": "view-in-github",
        "colab_type": "text"
      },
      "source": [
        "<a href=\"https://colab.research.google.com/github/ArseniySuchilin/Learning/blob/main/%D0%9E%D1%81%D0%BD%D0%BE%D0%B2%D1%8B_Python_%D0%9B%D0%A01.ipynb\" target=\"_parent\"><img src=\"https://colab.research.google.com/assets/colab-badge.svg\" alt=\"Open In Colab\"/></a>"
      ]
    },
    {
      "cell_type": "markdown",
      "source": [
        "# **ЛР1**"
      ],
      "metadata": {
        "id": "ClDkKasFImCP"
      }
    },
    {
      "cell_type": "markdown",
      "source": [
        "**Задание 1**"
      ],
      "metadata": {
        "id": "BZa2IYyMIqBL"
      }
    },
    {
      "cell_type": "code",
      "execution_count": null,
      "metadata": {
        "id": "cm2J5MfEIWCa"
      },
      "outputs": [],
      "source": [
        "import math as m"
      ]
    },
    {
      "cell_type": "code",
      "source": [
        "from math import pi, exp"
      ],
      "metadata": {
        "id": "yVo1tHQZI8gq"
      },
      "execution_count": null,
      "outputs": []
    },
    {
      "cell_type": "code",
      "source": [
        "m.log(25), m.log(exp(3)), m.log10(100)"
      ],
      "metadata": {
        "colab": {
          "base_uri": "https://localhost:8080/"
        },
        "id": "cE_QGCXwIzfl",
        "outputId": "23cfc19f-19d1-43cb-8469-c1647289c24a"
      },
      "execution_count": null,
      "outputs": [
        {
          "output_type": "execute_result",
          "data": {
            "text/plain": [
              "(3.2188758248682006, 3.0, 2.0)"
            ]
          },
          "metadata": {},
          "execution_count": 10
        }
      ]
    },
    {
      "cell_type": "code",
      "source": [
        "pi**3, 123**4"
      ],
      "metadata": {
        "colab": {
          "base_uri": "https://localhost:8080/"
        },
        "id": "w9V4JqovJFC3",
        "outputId": "ec32e120-38d4-4677-dd21-626654341458"
      },
      "execution_count": null,
      "outputs": [
        {
          "output_type": "execute_result",
          "data": {
            "text/plain": [
              "(31.006276680299816, 228886641)"
            ]
          },
          "metadata": {},
          "execution_count": 75
        }
      ]
    },
    {
      "cell_type": "code",
      "source": [
        "m.sqrt(459)"
      ],
      "metadata": {
        "colab": {
          "base_uri": "https://localhost:8080/"
        },
        "id": "AlJwrx1GJQQs",
        "outputId": "23d05c0e-ef6f-40f2-9093-a52d99604b25"
      },
      "execution_count": null,
      "outputs": [
        {
          "output_type": "execute_result",
          "data": {
            "text/plain": [
              "21.42428528562855"
            ]
          },
          "metadata": {},
          "execution_count": 15
        }
      ]
    },
    {
      "cell_type": "markdown",
      "source": [
        "**Задание 2**"
      ],
      "metadata": {
        "id": "HoSAPqP1KLt0"
      }
    },
    {
      "cell_type": "code",
      "source": [
        "a=2\n",
        "b=5"
      ],
      "metadata": {
        "id": "-KapLdLNKU4O"
      },
      "execution_count": null,
      "outputs": []
    },
    {
      "cell_type": "code",
      "source": [
        "print(a)\n",
        "print(b)"
      ],
      "metadata": {
        "colab": {
          "base_uri": "https://localhost:8080/"
        },
        "id": "o4FhbnA2M-Nd",
        "outputId": "07b9b94d-3893-4b54-fb42-20b71f79c38e"
      },
      "execution_count": null,
      "outputs": [
        {
          "output_type": "stream",
          "name": "stdout",
          "text": [
            "2\n",
            "5\n"
          ]
        }
      ]
    },
    {
      "cell_type": "code",
      "source": [
        "a,b=b,a"
      ],
      "metadata": {
        "id": "2RpQlLACM-Sg"
      },
      "execution_count": null,
      "outputs": []
    },
    {
      "cell_type": "code",
      "source": [
        "print(a)\n",
        "print(b)"
      ],
      "metadata": {
        "colab": {
          "base_uri": "https://localhost:8080/"
        },
        "id": "U00RIQ5yNiBg",
        "outputId": "a6b1e182-59f7-46cd-9c07-94c261d4dad1"
      },
      "execution_count": null,
      "outputs": [
        {
          "output_type": "stream",
          "name": "stdout",
          "text": [
            "5\n",
            "2\n"
          ]
        }
      ]
    },
    {
      "cell_type": "markdown",
      "source": [
        "**Задание 3**"
      ],
      "metadata": {
        "id": "wViQndqvNnFh"
      }
    },
    {
      "cell_type": "code",
      "source": [
        "phis = float (input('Введите значение параметра: '))"
      ],
      "metadata": {
        "colab": {
          "base_uri": "https://localhost:8080/"
        },
        "id": "NF4Go_gZS3sP",
        "outputId": "baf6d81c-f8d4-4b16-96b5-2dbb074f80be"
      },
      "execution_count": null,
      "outputs": [
        {
          "name": "stdout",
          "output_type": "stream",
          "text": [
            "Введите значение параметра: 56.4\n"
          ]
        }
      ]
    },
    {
      "cell_type": "code",
      "source": [
        "phis"
      ],
      "metadata": {
        "colab": {
          "base_uri": "https://localhost:8080/"
        },
        "id": "AfpcRmoOTdEX",
        "outputId": "84f3614d-8c3a-45db-c028-1e5626cf9e8f"
      },
      "execution_count": null,
      "outputs": [
        {
          "output_type": "execute_result",
          "data": {
            "text/plain": [
              "56.4"
            ]
          },
          "metadata": {},
          "execution_count": 67
        }
      ]
    },
    {
      "cell_type": "code",
      "source": [
        "a = m.log(phis)\n",
        "a"
      ],
      "metadata": {
        "colab": {
          "base_uri": "https://localhost:8080/"
        },
        "id": "v_wv76E9Tzek",
        "outputId": "eb4c1e09-b2cc-4a43-ff1a-d1234f91bf42"
      },
      "execution_count": null,
      "outputs": [
        {
          "output_type": "execute_result",
          "data": {
            "text/plain": [
              "4.032469158504013"
            ]
          },
          "metadata": {},
          "execution_count": 73
        }
      ]
    },
    {
      "cell_type": "code",
      "source": [
        "round (a, 2)"
      ],
      "metadata": {
        "colab": {
          "base_uri": "https://localhost:8080/"
        },
        "id": "wLsr0CRRUZ6z",
        "outputId": "91656630-d863-4f11-c472-c7eef25b8bd3"
      },
      "execution_count": null,
      "outputs": [
        {
          "output_type": "execute_result",
          "data": {
            "text/plain": [
              "4.03"
            ]
          },
          "metadata": {},
          "execution_count": 74
        }
      ]
    },
    {
      "cell_type": "markdown",
      "source": [
        "**Задание 4**"
      ],
      "metadata": {
        "id": "eJ4j2uxuO9FB"
      }
    },
    {
      "cell_type": "code",
      "source": [
        "X1 = float (input ('Введите значение X1: '))\\"
      ],
      "metadata": {
        "colab": {
          "base_uri": "https://localhost:8080/"
        },
        "id": "iKY-837IPWMd",
        "outputId": "eb2bfd86-3a33-4ad4-d105-833027aacc15"
      },
      "execution_count": null,
      "outputs": [
        {
          "name": "stdout",
          "output_type": "stream",
          "text": [
            "Введите значение X1: 7\n"
          ]
        }
      ]
    },
    {
      "cell_type": "code",
      "source": [
        "X2 = float (input ('Введите значение X2: '))"
      ],
      "metadata": {
        "colab": {
          "base_uri": "https://localhost:8080/"
        },
        "id": "DuMwiCJJVXEx",
        "outputId": "34471c62-fa1d-48cf-e477-c865515617a8"
      },
      "execution_count": null,
      "outputs": [
        {
          "name": "stdout",
          "output_type": "stream",
          "text": [
            "Введите значение X2: 9\n"
          ]
        }
      ]
    },
    {
      "cell_type": "code",
      "source": [
        "Y = 0.4 * X1 + 0.6 * X2"
      ],
      "metadata": {
        "id": "YWO7_9cJPAyq"
      },
      "execution_count": null,
      "outputs": []
    },
    {
      "cell_type": "code",
      "source": [
        "print (Y)"
      ],
      "metadata": {
        "colab": {
          "base_uri": "https://localhost:8080/"
        },
        "id": "FlEWuJhPQHVK",
        "outputId": "8490fb42-e2d2-433b-c64a-e859363c06a9"
      },
      "execution_count": null,
      "outputs": [
        {
          "output_type": "stream",
          "name": "stdout",
          "text": [
            "8.2\n"
          ]
        }
      ]
    },
    {
      "cell_type": "markdown",
      "source": [
        "**Задание 5**"
      ],
      "metadata": {
        "id": "Hk0llW6gQ3mP"
      }
    },
    {
      "cell_type": "code",
      "source": [
        "\n",
        "print (input ('Введите ФИО.'),', Добро пожаловать!')"
      ],
      "metadata": {
        "colab": {
          "base_uri": "https://localhost:8080/"
        },
        "id": "qyTeDh9MQ7b-",
        "outputId": "9ad47d08-3519-41ad-c922-441e948fc078"
      },
      "execution_count": null,
      "outputs": [
        {
          "output_type": "stream",
          "name": "stdout",
          "text": [
            "Введите ФИО.Сучилин Арсений Станиславович\n",
            "Сучилин Арсений Станиславович , Добро пожаловать!\n"
          ]
        }
      ]
    },
    {
      "cell_type": "markdown",
      "source": [
        "***Доп. задание***"
      ],
      "metadata": {
        "id": "a-GY7zVWZJOw"
      }
    },
    {
      "cell_type": "code",
      "source": [
        "x = int (input('Введите количество километров за первый день: '))"
      ],
      "metadata": {
        "colab": {
          "base_uri": "https://localhost:8080/"
        },
        "id": "d7Gcu-A9ZPGi",
        "outputId": "de33e76e-f3d5-4f90-9554-275d71154380"
      },
      "execution_count": null,
      "outputs": [
        {
          "name": "stdout",
          "output_type": "stream",
          "text": [
            "Введите количество километров за первый день: 4\n"
          ]
        }
      ]
    },
    {
      "cell_type": "code",
      "source": [
        "y = int (input('Введите суммарное количество километров: '))"
      ],
      "metadata": {
        "colab": {
          "base_uri": "https://localhost:8080/"
        },
        "id": "5weW4QzuaVka",
        "outputId": "2bcdc155-1387-43d8-b49a-1aac4f9b272f"
      },
      "execution_count": null,
      "outputs": [
        {
          "name": "stdout",
          "output_type": "stream",
          "text": [
            "Введите суммарное количество километров: 20\n"
          ]
        }
      ]
    },
    {
      "cell_type": "code",
      "source": [
        "day = 0\n",
        "while y - x >= 0:\n",
        "  x = x + x*0.1\n",
        "  day += 1"
      ],
      "metadata": {
        "id": "aH9vspSqbvQW"
      },
      "execution_count": null,
      "outputs": []
    },
    {
      "cell_type": "code",
      "source": [
        "print (day)"
      ],
      "metadata": {
        "id": "oGa3SO3gZeZ1",
        "colab": {
          "base_uri": "https://localhost:8080/"
        },
        "outputId": "f73d4661-5a11-4f39-8885-95a30048ed25"
      },
      "execution_count": null,
      "outputs": [
        {
          "output_type": "stream",
          "name": "stdout",
          "text": [
            "17\n"
          ]
        }
      ]
    }
  ]
}